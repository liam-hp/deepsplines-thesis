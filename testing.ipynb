{
 "cells": [
  {
   "cell_type": "code",
   "execution_count": 1,
   "metadata": {},
   "outputs": [],
   "source": [
    "import sys, os\n",
    "import utils\n",
    "\n",
    "sys.path.insert(0, os.path.abspath('../DeepSplines'))\n",
    "from deepsplines.ds_modules.deepBspline import DeepBSpline\n",
    "from models import LinearBSpline\n",
    "\n",
    "\n",
    "opt_params = {\n",
    "        'size': 3,\n",
    "        'range_': 1,\n",
    "        'init': 'relu',\n",
    "        'save_memory': False\n",
    "}\n",
    "\n",
    "bspline = DeepBSpline('fc', 8, **opt_params) # create a single BSpline Layer\n",
    "\n",
    "locations = bspline.grid_tensor.detach()\n",
    "coefficients = bspline.coefficients_vect.view(bspline.num_activations, bspline.size).detach()\n",
    "\n",
    "# print(locations)\n",
    "# print(coefficients)\n",
    "\n",
    "# utils.plot_bspline(locs=locations[0].numpy(), coeffs=coefficients[0].numpy)\n"
   ]
  },
  {
   "cell_type": "code",
   "execution_count": 2,
   "metadata": {},
   "outputs": [
    {
     "ename": "AttributeError",
     "evalue": "module 'linspline' has no attribute 'LinearSpline'",
     "output_type": "error",
     "traceback": [
      "\u001b[0;31m---------------------------------------------------------------------------\u001b[0m",
      "\u001b[0;31mAttributeError\u001b[0m                            Traceback (most recent call last)",
      "Cell \u001b[0;32mIn[2], line 10\u001b[0m\n\u001b[1;32m      6\u001b[0m \u001b[38;5;28;01mimport\u001b[39;00m \u001b[38;5;21;01mimportlib\u001b[39;00m\n\u001b[1;32m      8\u001b[0m importlib\u001b[38;5;241m.\u001b[39mreload(linspline)\n\u001b[0;32m---> 10\u001b[0m linspline \u001b[38;5;241m=\u001b[39m \u001b[43mlinspline\u001b[49m\u001b[38;5;241;43m.\u001b[39;49m\u001b[43mLinearSpline\u001b[49m(locations[\u001b[38;5;241m0\u001b[39m], coefficients[\u001b[38;5;241m0\u001b[39m])\n\u001b[1;32m     12\u001b[0m (locs, coeffs) \u001b[38;5;241m=\u001b[39m linspline\u001b[38;5;241m.\u001b[39mget_locs_coeffs()\n\u001b[1;32m     14\u001b[0m x_plot \u001b[38;5;241m=\u001b[39m x_plot \u001b[38;5;241m=\u001b[39m torch\u001b[38;5;241m.\u001b[39mfrom_numpy(np\u001b[38;5;241m.\u001b[39mlinspace(\u001b[38;5;241m-\u001b[39m\u001b[38;5;241m1\u001b[39m, \u001b[38;5;241m1\u001b[39m, \u001b[38;5;241m400\u001b[39m))\n",
      "\u001b[0;31mAttributeError\u001b[0m: module 'linspline' has no attribute 'LinearSpline'"
     ]
    }
   ],
   "source": [
    "import linspline\n",
    "import matplotlib.pyplot as plt\n",
    "import numpy as np\n",
    "import torch\n",
    "\n",
    "import importlib\n",
    "\n",
    "importlib.reload(linspline)\n",
    "\n",
    "linspline = linspline.LinearSpline(locations[0], coefficients[0])\n",
    "\n",
    "(locs, coeffs) = linspline.get_locs_coeffs()\n",
    "\n",
    "x_plot = x_plot = torch.from_numpy(np.linspace(-1, 1, 400))\n",
    "y_plot = linspline.forward(x_plot)\n",
    "\n",
    "\n",
    "plt.figure(figsize=(8, 6))\n",
    "plt.plot(x_plot, y_plot, label='Linear Spline', color='blue')\n",
    "plt.scatter(locs, coeffs, color='red', label='Knot Points')\n",
    "plt.title('Linear Spline Interpolation using NumPy.interp')\n",
    "plt.xlabel('x')\n",
    "plt.ylabel('y')\n",
    "plt.legend()\n",
    "plt.grid(True)\n",
    "plt.show()\n"
   ]
  },
  {
   "cell_type": "markdown",
   "metadata": {},
   "source": [
    "Now copy model to model"
   ]
  },
  {
   "cell_type": "code",
   "execution_count": 3,
   "metadata": {},
   "outputs": [],
   "source": [
    "model = LinearBSpline([8], 3, 1, 'relu') # create a BSpline based model\n",
    "\n",
    "for layer in range(len(model.get_deepspline_activations())):\n",
    "    locs = model.get_deepspline_activations()[layer]['locations']\n",
    "    coeffs = model.get_deepspline_activations()[layer]['coefficients']"
   ]
  },
  {
   "cell_type": "code",
   "execution_count": null,
   "metadata": {},
   "outputs": [],
   "source": [
    "# ! test timing on single bspline vs. linear spline vs. relu "
   ]
  },
  {
   "cell_type": "code",
   "execution_count": 4,
   "metadata": {},
   "outputs": [
    {
     "name": "stdout",
     "output_type": "stream",
     "text": [
      "\n",
      "----\n",
      "\n",
      "Sequential(\n",
      "  (0): Linear(in_features=8, out_features=8, bias=True)\n",
      "  (1): LinearSplineLayer(locs=Tensor(shape=(8, 3)), coeffs=Tensor(shape=(8, 3)), mode='fc')\n",
      "  (2): Linear(in_features=8, out_features=1, bias=True)\n",
      ")\n"
     ]
    }
   ],
   "source": [
    "import linspline\n",
    "import importlib\n",
    "\n",
    "importlib.reload(linspline)\n",
    "\n",
    "lin_model = linspline.LSplineFromBSpline(model.get_layers())\n",
    "\n",
    "print(\"\\n----\\n\")\n",
    "print(lin_model.get_layers())"
   ]
  },
  {
   "cell_type": "code",
   "execution_count": 15,
   "metadata": {},
   "outputs": [
    {
     "name": "stdout",
     "output_type": "stream",
     "text": [
      "BSpline fwd lat: 0.3702\n",
      "LSpline fwd lat: 0.3893\n"
     ]
    }
   ],
   "source": [
    "import linspline\n",
    "import importlib\n",
    "import time\n",
    "\n",
    "import torch.nn as nn\n",
    "\n",
    "from sklearn.datasets import fetch_california_housing\n",
    "from sklearn.model_selection import train_test_split\n",
    "\n",
    "importlib.reload(linspline)\n",
    "\n",
    "housing = fetch_california_housing()\n",
    "X, y = housing.data, housing.target\n",
    "\n",
    "X_train, X_test, y_train, y_test = train_test_split(X, y, train_size=0.85, shuffle=True)\n",
    "\n",
    "X_train = torch.tensor(X_train, dtype=torch.float32)\n",
    "y_train = torch.tensor(y_train, dtype=torch.float32).reshape(-1, 1)\n",
    "\n",
    "X_test = torch.tensor(X_test, dtype=torch.float32)\n",
    "y_test = torch.tensor(y_test, dtype=torch.float32).reshape(-1, 1)\n",
    "\n",
    "loss_fn = nn.MSELoss()\n",
    "\n",
    "model = LinearBSpline([8], 3, 1)\n",
    "\n",
    "start_time = time.perf_counter()\n",
    "_ = model(X_test)\n",
    "\n",
    "end_time = time.perf_counter()\n",
    "fwd_lat = (end_time - start_time) / len(X_test) * 1000 * 1000 # per sample latency: seconds -> nanoseconds\n",
    "fwd_lat = round(fwd_lat, 4)\n",
    "\n",
    "print(f\"BSpline fwd lat: {fwd_lat}\")\n",
    "\n",
    "# ~ ---------\n",
    "\n",
    "lin_model = linspline.LSplineFromBSpline(model.get_layers())\n",
    "\n",
    "start_time = time.perf_counter()\n",
    "_ = lin_model(X_test)\n",
    "\n",
    "end_time = time.perf_counter()\n",
    "fwd_lat = (end_time - start_time) / len(X_test) * 1000 * 1000 # per sample latency: seconds -> nanoseconds\n",
    "fwd_lat = round(fwd_lat, 4)\n",
    "print(f\"LSpline fwd lat: {fwd_lat}\")\n",
    "\n",
    "# may need to continue training on the linear splines..."
   ]
  },
  {
   "cell_type": "code",
   "execution_count": 14,
   "metadata": {},
   "outputs": [],
   "source": [
    "sys.path.insert(0, os.path.abspath('../DeepSplines'))\n",
    "from deepsplines.ds_modules.deepBspline import DeepBSpline\n",
    "import deepsplines\n",
    "import utils\n",
    "\n",
    "layer_locs = []\n",
    "layer_coeffs = []\n",
    "for layer in model.get_layers():\n",
    "    if(type(layer) is deepsplines.ds_modules.deepBspline.DeepBSpline):\n",
    "        layer_locs.append(layer.grid_tensor.detach())\n",
    "        layer_coeffs.append(layer.coefficients_vect.view(layer.num_activations, layer.size).detach())"
   ]
  },
  {
   "cell_type": "code",
   "execution_count": 15,
   "metadata": {},
   "outputs": [
    {
     "name": "stdout",
     "output_type": "stream",
     "text": [
      "<class 'linspline.LinearSplineLayer'>\n"
     ]
    }
   ],
   "source": [
    "import linspline\n",
    "\n",
    "layer_locs2 = []\n",
    "layer_coeffs2 = []\n",
    "for layer in lin_model.get_layers():\n",
    "    if(type(layer) is not torch.nn.modules.linear.Linear):\n",
    "        print(type(layer))\n",
    "        (l2, c2) = layer.get_locs_coeffs()\n",
    "        \n",
    "        layer_locs2.append(l2)\n",
    "        layer_coeffs2.append(c2)\n"
   ]
  },
  {
   "cell_type": "markdown",
   "metadata": {},
   "source": [
    "## Here"
   ]
  },
  {
   "cell_type": "code",
   "execution_count": 2,
   "metadata": {},
   "outputs": [],
   "source": [
    "import time, torch\n",
    "\n",
    "input_dim = 8\n",
    "batch_size = 10\n",
    "\n",
    "def run_layer(layer, input_dim, batch_size):\n",
    "    #print(layer)\n",
    "    start_time = time.perf_counter()\n",
    "    n=1000\n",
    "    inputs = [ torch.rand(batch_size, input_dim) * 3 - 1.5 for _ in range(n) ]\n",
    "    # print(\"Example input: \", inputs[0])\n",
    "    for i in range(n):\n",
    "        _ = layer(inputs[i])\n",
    "    return time.perf_counter() - start_time # time to process n inputs"
   ]
  },
  {
   "cell_type": "code",
   "execution_count": 4,
   "metadata": {},
   "outputs": [
    {
     "name": "stdout",
     "output_type": "stream",
     "text": [
      "[2025-01-02 20:30:52,049] [WARNING] [real_accelerator.py:174:get_accelerator] Setting accelerator to CPU. If you have GPU or other accelerator, we were unable to detect it.\n",
      "[2025-01-02 20:30:52,085] [INFO] [real_accelerator.py:219:get_accelerator] Setting ds_accelerator to cpu (auto detect)\n",
      "Warning: The cache directory for DeepSpeed Triton autotune, /home/wpatty/.triton/autotune, appears to be on an NFS system. While this is generally acceptable, if you experience slowdowns or hanging when DeepSpeed exits, it is recommended to set the TRITON_CACHE_DIR environment variable to a non-NFS path.\n"
     ]
    }
   ],
   "source": [
    "from deepspeed.profiling.flops_profiler import get_model_profile\n",
    "def get_model_params(model, input_size=8):\n",
    "    base_flops, macs, params = get_model_profile(model=model, # model\n",
    "            input_shape=(batch_size, input_size), # input shape to the model. If specified, the model takes a tensor with this shape as the only positional argument.\n",
    "            args=None, # list of positional arguments to the model.\n",
    "            kwargs=None, # dictionary of keyword arguments to the model.\n",
    "            print_profile=False, #! prints the model graph with the measured profile attached to each module\n",
    "            detailed=True, # print the detailed profile\n",
    "            module_depth=-1, # depth into the nested modules, with -1 being the inner most modules\n",
    "            top_modules=1, # the number of top modules to print aggregated profile\n",
    "            warm_up=10, # the number of warm-ups before measuring the time of each module\n",
    "            as_string=False, # print raw numbers (e.g. 1000) or as human-readable strings (e.g. 1k)\n",
    "            output_file=None, # path to the output file. If None, the profiler prints to stdout.\n",
    "            ignore_modules=None)\n",
    "\n",
    "    return params"
   ]
  },
  {
   "cell_type": "code",
   "execution_count": 5,
   "metadata": {},
   "outputs": [
    {
     "name": "stdout",
     "output_type": "stream",
     "text": [
      "[(153, 0.07044262392446399), (225, 0.09166636597365141), (497, 0.12815096112899482), (2873, 0.18513392098248005), (12233, 0.2546231998130679)]\n",
      "[(201, 0.5630547080654651), (297, 0.8169881771318614), (617, 0.8803278179839253), (3209, 1.4166555360425264), (13001, 2.0186847380828112)]\n",
      "[(201, 0.2731004930101335), (297, 0.38378298305906355), (617, 0.4362629798706621), (3209, 0.7260007809381932), (13001, 1.053679727949202)]\n"
     ]
    }
   ],
   "source": [
    "from models import LinearReLU, LinearBSpline\n",
    "import linspline\n",
    "import importlib\n",
    "from IPython.display import clear_output\n",
    "\n",
    "importlib.reload(linspline)\n",
    "\n",
    "archs = [[8,8], [8,8,8], [8,24,8], [8, 24, 48, 24, 8], [8, 24, 48, 96, 48, 24, 8]]\n",
    "relu_results = []\n",
    "bspline_results = []\n",
    "lspline_results = []\n",
    "\n",
    "for arch in archs:\n",
    "    reluModel = LinearReLU(arch)\n",
    "    # run_layer(reluModel.layers[1], input_dim, batch_size)\n",
    "    relu_results.append((get_model_params(reluModel), run_layer(reluModel, input_dim, batch_size)))\n",
    "\n",
    "    bsplineModel = LinearBSpline(arch, 3, 1, \"relu\")\n",
    "    spline_params = get_model_params(bsplineModel) #! not actually true... need to figure out why bspline has fewer params\n",
    "    # run_layer(bsplineModel.get_layers()[1], input_dim, batch_size)\n",
    "    bspline_results.append((spline_params, run_layer(bsplineModel, input_dim, batch_size)))\n",
    "\n",
    "    linModel = linspline.LSplineFromBSpline(bsplineModel.get_layers())\n",
    "    # run_layer(linModel.get_layers()[1], input_dim, batch_size)\n",
    "    lspline_results.append((spline_params, run_layer(linModel, input_dim, batch_size)))\n",
    "\n",
    "clear_output()\n",
    "print(relu_results)\n",
    "print(bspline_results)\n",
    "print(lspline_results)"
   ]
  },
  {
   "cell_type": "code",
   "execution_count": 7,
   "metadata": {},
   "outputs": [
    {
     "data": {
      "image/png": "[encoded data removed]",
      "text/plain": [
       "<Figure size 1000x600 with 1 Axes>"
      ]
     },
     "metadata": {},
     "output_type": "display_data"
    }
   ],
   "source": [
    "import matplotlib.pyplot as plt\n",
    "\n",
    "# Assuming relu_results, bspline_results, and lspline_results contain (idx, result) tuples\n",
    "relu_indices = [result[0] for result in relu_results]\n",
    "relu_values = [result[1] for result in relu_results]\n",
    "\n",
    "bspline_indices = [result[0] for result in bspline_results]\n",
    "bspline_values = [result[1] for result in bspline_results]\n",
    "\n",
    "lspline_indices = [result[0] for result in lspline_results]\n",
    "lspline_values = [result[1] for result in lspline_results]\n",
    "\n",
    "# Create the plot\n",
    "plt.figure(figsize=(10, 6))\n",
    "\n",
    "# Plot each model's results\n",
    "plt.plot(relu_indices, relu_values, label=\"ReLU Model\", marker='o', linestyle='-', color='b')\n",
    "plt.plot(bspline_indices, bspline_values, label=\"BSpline Model\", marker='o', linestyle='-', color='g')\n",
    "plt.plot(lspline_indices, lspline_values, label=\"LSpline Model\", marker='o', linestyle='-', color='r')\n",
    "\n",
    "# Labeling the axes and the plot\n",
    "plt.xlabel(\"Model Parameters\")\n",
    "plt.ylabel(\"Forward Latency\")\n",
    "plt.title(\"Architecture Comparison by Param\")\n",
    "plt.legend()\n",
    "\n",
    "# Show the plot\n",
    "plt.grid(True)\n",
    "plt.tight_layout()\n",
    "plt.show()"
   ]
  },
  {
   "cell_type": "code",
   "execution_count": 50,
   "metadata": {},
   "outputs": [
    {
     "name": "stdout",
     "output_type": "stream",
     "text": [
      "Init complete\n",
      "Epoch 0: 5808.34423828125\n",
      "Epoch 5: 1977.736572265625\n",
      "Epoch 10: 1365.8917236328125\n",
      "Epoch 15: 2391.31884765625\n"
     ]
    }
   ],
   "source": [
    "import torch\n",
    "import torch.nn as nn\n",
    "import torch.optim as optim\n",
    "\n",
    "from sklearn.datasets import fetch_california_housing\n",
    "from sklearn.model_selection import train_test_split\n",
    "\n",
    "from models import LinearBSpline\n",
    "\n",
    "from torch.utils.data import TensorDataset, DataLoader\n",
    "\n",
    "# By default, PyTorch attempts to use all available CPU cores for intra-op parallelism. Set threads = cpu cores\n",
    "torch.set_num_threads(1)\n",
    "\n",
    "# Load the data\n",
    "housing = fetch_california_housing()\n",
    "X, y = housing.data, housing.target\n",
    "\n",
    "# train-test split of the dataset\n",
    "X_train, X_test, y_train, y_test = train_test_split(X, y, train_size=0.85, shuffle=True)\n",
    "\n",
    "X_train = torch.tensor(X_train, dtype=torch.float32)\n",
    "y_train = torch.tensor(y_train, dtype=torch.float32).reshape(-1, 1)\n",
    "\n",
    "X_test = torch.tensor(X_test, dtype=torch.float32)\n",
    "y_test = torch.tensor(y_test, dtype=torch.float32).reshape(-1, 1)\n",
    "\n",
    "# using a dataloader to randomize batching\n",
    "train_dataset = TensorDataset(X_train, y_train)\n",
    "train_loader = DataLoader(train_dataset, batch_size=10, shuffle=True)\n",
    "\n",
    "loss_fn = nn.MSELoss()  # mean square error\n",
    "\n",
    "lmbda = 1e-4 # regularization weight\n",
    "\n",
    "bsm = LinearBSpline([8], 3, 1, \"relu\")\n",
    "optimizer = optim.Adam(bsm.parameters_no_deepspline(), lr=0.001)\n",
    "aux_optimizer = optim.Adam(bsm.parameters_deepspline(), lr=0.0001)\n",
    "\n",
    "print(\"Init complete\")\n",
    "\n",
    "bsm.train()\n",
    "for epoch in range(20):\n",
    "    rloss = 0\n",
    "    for X_batch, y_batch in train_loader:\n",
    "        optimizer.zero_grad()\n",
    "        aux_optimizer.zero_grad()\n",
    "\n",
    "        y_pred = bsm(X_batch)\n",
    "        loss = loss_fn(y_pred, y_batch)\n",
    "        loss2 = loss + lmbda * bsm.TV2()\n",
    "        loss2.backward()\n",
    "        optimizer.step()\n",
    "        aux_optimizer.step()\n",
    "        \n",
    "        rloss += loss\n",
    "    if(epoch % 5 == 0):\n",
    "        print(f\"Epoch {epoch}: {rloss}\")\n"
   ]
  },
  {
   "cell_type": "code",
   "execution_count": 51,
   "metadata": {},
   "outputs": [
    {
     "name": "stdout",
     "output_type": "stream",
     "text": [
      "Relu:\n",
      "Example input:  tensor([[-0.8757, -0.8190, -0.7289, -0.1208,  0.3713, -0.0796,  1.4801,  0.6800]])\n",
      "0.02407547098118812\n",
      "Example input:  tensor([[ 1.3672, -0.3730, -1.2520,  0.3729, -1.0686, -1.2044,  0.6517,  0.5266]])\n",
      "0.05123466602526605\n",
      "\n",
      " ---- \n",
      "\n",
      "BSpline:\n",
      "Example input:  tensor([[ 0.3143, -0.6568, -1.1178, -0.4033, -0.3168,  0.1962, -0.0949,  0.0265]])\n",
      "0.2497409119969234\n",
      "Example input:  tensor([[-0.2520,  1.1274, -1.1364,  0.8665, -0.6309, -0.5737,  0.9170, -0.9641]])\n",
      "0.293678083922714\n",
      "\n",
      " ---- \n",
      "\n",
      "Transferred LSpline\n",
      "LSpline:\n",
      "Example input:  tensor([[ 1.4577, -1.2524,  0.4339, -1.1763, -0.1010,  1.4335,  0.2256, -1.4218]])\n",
      "0.13074749999213964\n",
      "Example input:  tensor([[-1.2117, -0.3120, -0.6229,  0.9677,  0.6571,  0.6464,  1.4126, -0.0633]])\n",
      "0.17072065104730427\n"
     ]
    }
   ],
   "source": [
    "import time, importlib, utils\n",
    "importlib.reload(linspline)\n",
    "importlib.reload(utils)\n",
    "\n",
    "reluModel = LinearReLU([8])\n",
    "layer = reluModel.layers[1]\n",
    "print(\"Relu:\")\n",
    "run_layer(layer, 8)\n",
    "run_layer(reluModel, 8)\n",
    "\n",
    "print(\"\\n ---- \\n\")\n",
    "\n",
    "layer = bsm.get_layers()[1]\n",
    "print(\"BSpline:\")\n",
    "run_layer(layer, 8)\n",
    "run_layer(bsm, 8)\n",
    "\n",
    "print(\"\\n ---- \\n\")\n",
    "\n",
    "\n",
    "print(\"Transferred LSpline\")\n",
    "lin = linspline.LSplineFromBSpline(bsm.get_layers())\n",
    "layer = lin.get_layers()[1]\n",
    "print(\"LSpline:\")\n",
    "run_layer(layer, 8)\n",
    "run_layer(lin, 8)\n",
    "\n",
    "\n",
    "# layer_locs = layer.grid_tensor.detach()[0]\n",
    "# layer_coeffs = layer.coefficients_vect.view(layer.num_activations, layer.size).detach()[0]\n",
    "# utils.plot_bspline(layer_locs, layer_coeffs, hide_bases=True)"
   ]
  },
  {
   "cell_type": "code",
   "execution_count": 18,
   "metadata": {},
   "outputs": [
    {
     "name": "stdout",
     "output_type": "stream",
     "text": [
      "Transferred LSpline\n",
      "time:  293.79199258983135\n",
      "tensor([[-0.2737, -0.0244],\n",
      "        [ 0.0382,  0.0082],\n",
      "        [ 1.8457,  0.0412]])\n"
     ]
    }
   ],
   "source": [
    "lin_layer = linModel.get_layers()[1]\n",
    "(linlocs, lincoeffs) = lin_layer.get_locs_coeffs()\n",
    "# utils.plot_bspline(linlocs[0], lincoeffs[0], hide_bases=True)"
   ]
  },
  {
   "cell_type": "code",
   "execution_count": 19,
   "metadata": {},
   "outputs": [
    {
     "name": "stdout",
     "output_type": "stream",
     "text": [
      "Init complete\n",
      "Epoch 0: 1173.4237060546875\n",
      "Epoch 1: 1279.8961181640625\n",
      "Epoch 2: 1145.614990234375\n",
      "Epoch 3: 1148.69677734375\n",
      "Epoch 4: 1183.909423828125\n",
      "Epoch 5: 1157.4105224609375\n",
      "Epoch 6: 1178.8897705078125\n",
      "Epoch 7: 1164.2030029296875\n",
      "Epoch 8: 1176.5655517578125\n",
      "Epoch 9: 1152.094482421875\n",
      "time:  320.02292573451996\n",
      "tensor([[-0.2737, -0.0244],\n",
      "        [ 0.0382,  0.0082],\n",
      "        [ 1.8457,  0.0412]])\n"
     ]
    }
   ],
   "source": [
    "lin_optimizer = optim.Adam(linModel.parameters(), lr=0.001)\n",
    "\n",
    "print(\"Init complete\")\n",
    "\n",
    "linModel.train()\n",
    "for epoch in range(10):\n",
    "    rloss = 0\n",
    "    for X_batch, y_batch in train_loader:\n",
    "        lin_optimizer.zero_grad()\n",
    "\n",
    "        y_pred = linModel(X_batch)\n",
    "        loss = loss_fn(y_pred, y_batch)\n",
    "        loss.backward()\n",
    "        optimizer.step()\n",
    "        rloss += loss\n",
    "    print(f\"Epoch {epoch}: {rloss}\")\n",
    "\n",
    "layer = linModel.get_layers()[1]\n",
    "run_layer(layer, input)"
   ]
  },
  {
   "cell_type": "code",
   "execution_count": null,
   "metadata": {},
   "outputs": [],
   "source": [
    "from models import LinearRelu\n",
    "\n",
    "relu = LinearRelu([8])\n",
    "optimizer = optim.Adam(bsm.parameters_no_deepspline(), lr=0.001)\n",
    "\n",
    "print(\"Init complete\")\n",
    "\n",
    "relu.train()\n",
    "for epoch in range(100):\n",
    "    rloss = 0\n",
    "    for X_batch, y_batch in train_loader:\n",
    "        optimizer.zero_grad()\n",
    "\n",
    "        y_pred = bsm(X_batch)\n",
    "        loss = loss_fn(y_pred, y_batch)\n",
    "        loss2 = loss + lmbda * bsm.TV2()\n",
    "        loss2.backward()\n",
    "        optimizer.step()\n",
    "        \n",
    "        rloss += loss\n",
    "    if(epoch % 5 == 0):\n",
    "        print(f\"Epoch {epoch}: {rloss}\")"
   ]
  },
  {
   "cell_type": "code",
   "execution_count": 15,
   "metadata": {},
   "outputs": [
    {
     "ename": "IndexError",
     "evalue": "Dimension out of range (expected to be in range of [-1, 0], but got 1)",
     "output_type": "error",
     "traceback": [
      "\u001b[0;31m---------------------------------------------------------------------------\u001b[0m",
      "\u001b[0;31mIndexError\u001b[0m                                Traceback (most recent call last)",
      "Cell \u001b[0;32mIn[15], line 6\u001b[0m\n\u001b[1;32m      3\u001b[0m x \u001b[38;5;241m=\u001b[39m torch\u001b[38;5;241m.\u001b[39mlinspace(\u001b[38;5;241m-\u001b[39m\u001b[38;5;241m1\u001b[39m, \u001b[38;5;241m1\u001b[39m, \u001b[38;5;241m1000\u001b[39m, dtype\u001b[38;5;241m=\u001b[39mtorch\u001b[38;5;241m.\u001b[39mfloat)\n\u001b[1;32m      5\u001b[0m \u001b[38;5;66;03m# Compute y values based on the new function\u001b[39;00m\n\u001b[0;32m----> 6\u001b[0m y1 \u001b[38;5;241m=\u001b[39m \u001b[43mlayer\u001b[49m\u001b[43m(\u001b[49m\u001b[43mx\u001b[49m\u001b[43m)\u001b[49m\n\u001b[1;32m      7\u001b[0m y2 \u001b[38;5;241m=\u001b[39m lin_layer(x)\n\u001b[1;32m      9\u001b[0m \u001b[38;5;66;03m# # Create the plot\u001b[39;00m\n",
      "File \u001b[0;32m~/.conda/envs/dsnn_liam_py3.10/lib/python3.12/site-packages/torch/nn/modules/module.py:1736\u001b[0m, in \u001b[0;36mModule._wrapped_call_impl\u001b[0;34m(self, *args, **kwargs)\u001b[0m\n\u001b[1;32m   1734\u001b[0m     \u001b[38;5;28;01mreturn\u001b[39;00m \u001b[38;5;28mself\u001b[39m\u001b[38;5;241m.\u001b[39m_compiled_call_impl(\u001b[38;5;241m*\u001b[39margs, \u001b[38;5;241m*\u001b[39m\u001b[38;5;241m*\u001b[39mkwargs)  \u001b[38;5;66;03m# type: ignore[misc]\u001b[39;00m\n\u001b[1;32m   1735\u001b[0m \u001b[38;5;28;01melse\u001b[39;00m:\n\u001b[0;32m-> 1736\u001b[0m     \u001b[38;5;28;01mreturn\u001b[39;00m \u001b[38;5;28;43mself\u001b[39;49m\u001b[38;5;241;43m.\u001b[39;49m\u001b[43m_call_impl\u001b[49m\u001b[43m(\u001b[49m\u001b[38;5;241;43m*\u001b[39;49m\u001b[43margs\u001b[49m\u001b[43m,\u001b[49m\u001b[43m \u001b[49m\u001b[38;5;241;43m*\u001b[39;49m\u001b[38;5;241;43m*\u001b[39;49m\u001b[43mkwargs\u001b[49m\u001b[43m)\u001b[49m\n",
      "File \u001b[0;32m~/.conda/envs/dsnn_liam_py3.10/lib/python3.12/site-packages/torch/nn/modules/module.py:1747\u001b[0m, in \u001b[0;36mModule._call_impl\u001b[0;34m(self, *args, **kwargs)\u001b[0m\n\u001b[1;32m   1742\u001b[0m \u001b[38;5;66;03m# If we don't have any hooks, we want to skip the rest of the logic in\u001b[39;00m\n\u001b[1;32m   1743\u001b[0m \u001b[38;5;66;03m# this function, and just call forward.\u001b[39;00m\n\u001b[1;32m   1744\u001b[0m \u001b[38;5;28;01mif\u001b[39;00m \u001b[38;5;129;01mnot\u001b[39;00m (\u001b[38;5;28mself\u001b[39m\u001b[38;5;241m.\u001b[39m_backward_hooks \u001b[38;5;129;01mor\u001b[39;00m \u001b[38;5;28mself\u001b[39m\u001b[38;5;241m.\u001b[39m_backward_pre_hooks \u001b[38;5;129;01mor\u001b[39;00m \u001b[38;5;28mself\u001b[39m\u001b[38;5;241m.\u001b[39m_forward_hooks \u001b[38;5;129;01mor\u001b[39;00m \u001b[38;5;28mself\u001b[39m\u001b[38;5;241m.\u001b[39m_forward_pre_hooks\n\u001b[1;32m   1745\u001b[0m         \u001b[38;5;129;01mor\u001b[39;00m _global_backward_pre_hooks \u001b[38;5;129;01mor\u001b[39;00m _global_backward_hooks\n\u001b[1;32m   1746\u001b[0m         \u001b[38;5;129;01mor\u001b[39;00m _global_forward_hooks \u001b[38;5;129;01mor\u001b[39;00m _global_forward_pre_hooks):\n\u001b[0;32m-> 1747\u001b[0m     \u001b[38;5;28;01mreturn\u001b[39;00m \u001b[43mforward_call\u001b[49m\u001b[43m(\u001b[49m\u001b[38;5;241;43m*\u001b[39;49m\u001b[43margs\u001b[49m\u001b[43m,\u001b[49m\u001b[43m \u001b[49m\u001b[38;5;241;43m*\u001b[39;49m\u001b[38;5;241;43m*\u001b[39;49m\u001b[43mkwargs\u001b[49m\u001b[43m)\u001b[49m\n\u001b[1;32m   1749\u001b[0m result \u001b[38;5;241m=\u001b[39m \u001b[38;5;28;01mNone\u001b[39;00m\n\u001b[1;32m   1750\u001b[0m called_always_called_hooks \u001b[38;5;241m=\u001b[39m \u001b[38;5;28mset\u001b[39m()\n",
      "File \u001b[0;32m~/thesis/linspline.py:127\u001b[0m, in \u001b[0;36mforward\u001b[0;34m(self, x)\u001b[0m\n\u001b[1;32m    120\u001b[0m \u001b[38;5;28;01mdef\u001b[39;00m \u001b[38;5;21mforward\u001b[39m(\u001b[38;5;28mself\u001b[39m, x):\n\u001b[1;32m    121\u001b[0m \n\u001b[1;32m    122\u001b[0m     \u001b[38;5;66;03m# ! faster\u001b[39;00m\n\u001b[1;32m    123\u001b[0m \n\u001b[1;32m    124\u001b[0m     \u001b[38;5;66;03m# x is (batch_size, num_splines)\u001b[39;00m\n\u001b[1;32m    125\u001b[0m     group_by_splines \u001b[38;5;241m=\u001b[39m x\u001b[38;5;241m.\u001b[39mtranspose(\u001b[38;5;241m0\u001b[39m, \u001b[38;5;241m1\u001b[39m)  \u001b[38;5;66;03m# Shape: (num_splines, batch_size)\u001b[39;00m\n\u001b[0;32m--> 127\u001b[0m     idx \u001b[38;5;241m=\u001b[39m torch\u001b[38;5;241m.\u001b[39msearchsorted(\u001b[38;5;28mself\u001b[39m\u001b[38;5;241m.\u001b[39mlocs, group_by_splines, right\u001b[38;5;241m=\u001b[39m\u001b[38;5;28;01mFalse\u001b[39;00m) \u001b[38;5;241m-\u001b[39m \u001b[38;5;241m1\u001b[39m \u001b[38;5;66;03m# get the spline indices for each input\u001b[39;00m\n\u001b[1;32m    128\u001b[0m     idx \u001b[38;5;241m=\u001b[39m idx\u001b[38;5;241m.\u001b[39mclamp(\u001b[38;5;241m0\u001b[39m, \u001b[38;5;28mself\u001b[39m\u001b[38;5;241m.\u001b[39mlocs\u001b[38;5;241m.\u001b[39msize(\u001b[38;5;241m1\u001b[39m) \u001b[38;5;241m-\u001b[39m \u001b[38;5;241m2\u001b[39m) \u001b[38;5;66;03m# make sure we stay in bounds\u001b[39;00m\n\u001b[1;32m    130\u001b[0m     spline_indices \u001b[38;5;241m=\u001b[39m torch\u001b[38;5;241m.\u001b[39marange(\u001b[38;5;28mself\u001b[39m\u001b[38;5;241m.\u001b[39mnum_knots, device\u001b[38;5;241m=\u001b[39mx\u001b[38;5;241m.\u001b[39mdevice)\u001b[38;5;241m.\u001b[39munsqueeze(\u001b[38;5;241m1\u001b[39m) \n",
      "\u001b[0;31mIndexError\u001b[0m: Dimension out of range (expected to be in range of [-1, 0], but got 1)"
     ]
    }
   ],
   "source": [
    "import matplotlib.pyplot as plt\n",
    "\n",
    "x = torch.linspace(-1, 1, 1000, dtype=torch.float)\n",
    "\n",
    "# Compute y values based on the new function\n",
    "y1 = layer(x)\n",
    "y2 = lin_layer(x)\n",
    "\n",
    "# # Create the plot\n",
    "plt.figure(figsize=(8, 6))\n",
    "plt.plot(x, y1, label='BSpline', color='red', alpha = .5)\n",
    "plt.plot(x, y2, label='LSpline', color='blue', alpha = .5)\n",
    "plt.grid(True, which='both', linestyle='--', linewidth=0.5)\n",
    "plt.legend()\n",
    "plt.show()"
   ]
  },
  {
   "cell_type": "code",
   "execution_count": null,
   "metadata": {},
   "outputs": [],
   "source": []
  }
 ],
 "metadata": {
  "kernelspec": {
   "display_name": "dsnn_liam_py3.10",
   "language": "python",
   "name": "python3"
  },
  "language_info": {
   "codemirror_mode": {
    "name": "ipython",
    "version": 3
   },
   "file_extension": ".py",
   "mimetype": "text/x-python",
   "name": "python",
   "nbconvert_exporter": "python",
   "pygments_lexer": "ipython3",
   "version": "3.12.7"
  }
 },
 "nbformat": 4,
 "nbformat_minor": 2
}
